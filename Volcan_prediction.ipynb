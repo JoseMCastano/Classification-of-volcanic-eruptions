{
 "cells": [
  {
   "cell_type": "markdown",
   "id": "71d31f11",
   "metadata": {},
   "source": [
    "# Titulo\n"
   ]
  },
  {
   "cell_type": "markdown",
   "id": "c13a5f37",
   "metadata": {},
   "source": [
    "### Index:\n",
    "## Dataset overview\n",
    "## Objectives\n",
    "## Exploratory Data Analysis\n",
    "\n",
    "- Data review and checks\n",
    "- Features distributions\n",
    "- Correlation analysis\n",
    "- Target distribution\n",
    "\n",
    "## Building a Random Forest Classifier model\n",
    "- Creating the base model\n",
    "- Cross Validation\n",
    "- Hypermarater tunning\n",
    "- Preparing the model for new predictions\n",
    "\n",
    "## Conclusions"
   ]
  },
  {
   "cell_type": "markdown",
   "id": "150f73bb",
   "metadata": {},
   "source": [
    "# Dataset overview\n",
    "\n",
    "The data is related with eruption prevention system, which is capable to predict what type of eruption a volcano will have based on the vibrations detected by its sensors during the days prior to the eruption.\n",
    "\n",
    "The metric used to evaluate the objective will be 'f1-score'.\n",
    "\n",
    "This exercise corresponds to the challenge **Talent Digital Hackaton**, conducted online at https://nuwe.io"
   ]
  },
  {
   "cell_type": "markdown",
   "id": "ead1f97f",
   "metadata": {},
   "source": [
    "## Dataset explanation\n",
    "\n",
    "The dataset has 2,100 instances, 6 features and a target.\n",
    "\n",
    "- **Features**: It contains 6 features in 6 columns, which are the measured vibrations of the different sensors the days before the volcanic eruption\n",
    "- **Target**: The target corresponds to the label that classifies the types of eruptions:\n",
    "\n",
    "    - Target 0 corresponds to a type eruption Pliniana\n",
    "    - Target 1 corresponds to a type eruption Peleana\n",
    "    - Target 2 corresponds to a type eruption Vulcaniana\n",
    "    - Target 3 corresponds to a type eruption Hawaiana\n",
    "    - Target 4 corresponds to a type eruption Estromboliana\n"
   ]
  },
  {
   "cell_type": "markdown",
   "id": "460288a4",
   "metadata": {},
   "source": [
    "# Objectives\n",
    "\n",
    "The objective of this project is to **develop a predictive model** based on Random Forests that allows knowing the type of eruption that a volcano will have based on the vibrations measured by the sensors the days before the volcanic eruption."
   ]
  },
  {
   "cell_type": "markdown",
   "id": "66c58a81",
   "metadata": {},
   "source": [
    "## Libraries"
   ]
  },
  {
   "cell_type": "code",
   "execution_count": 2,
   "id": "8bdb4998",
   "metadata": {},
   "outputs": [],
   "source": [
    "import numpy as np\n",
    "import pandas as pd\n",
    "import matplotlib.pyplot as plt\n",
    "import seaborn as sns\n",
    "from scipy.stats import shapiro\n",
    "from sklearn.preprocessing import RobustScaler\n",
    "from sklearn.model_selection import GridSearchCV, cross_val_score, RepeatedKFold\n",
    "from sklearn.ensemble import RandomForestClassifier\n",
    "from sklearn.metrics import f1_score\n",
    "\n",
    "from sklearn.pipeline import Pipeline\n",
    "from sklearn.compose import ColumnTransformer"
   ]
  },
  {
   "cell_type": "code",
   "execution_count": 4,
   "id": "774e17e3",
   "metadata": {},
   "outputs": [],
   "source": [
    "data = pd.read_csv('jm_train.csv', engine='python')"
   ]
  },
  {
   "cell_type": "code",
   "execution_count": 4,
   "id": "ef1a75ab",
   "metadata": {},
   "outputs": [
    {
     "data": {
      "text/html": [
       "<div>\n",
       "<style scoped>\n",
       "    .dataframe tbody tr th:only-of-type {\n",
       "        vertical-align: middle;\n",
       "    }\n",
       "\n",
       "    .dataframe tbody tr th {\n",
       "        vertical-align: top;\n",
       "    }\n",
       "\n",
       "    .dataframe thead th {\n",
       "        text-align: right;\n",
       "    }\n",
       "</style>\n",
       "<table border=\"1\" class=\"dataframe\">\n",
       "  <thead>\n",
       "    <tr style=\"text-align: right;\">\n",
       "      <th></th>\n",
       "      <th>feature1</th>\n",
       "      <th>feature2</th>\n",
       "      <th>feature3</th>\n",
       "      <th>feature4</th>\n",
       "      <th>feature5</th>\n",
       "      <th>feature6</th>\n",
       "      <th>target</th>\n",
       "    </tr>\n",
       "  </thead>\n",
       "  <tbody>\n",
       "    <tr>\n",
       "      <th>0</th>\n",
       "      <td>0.474335</td>\n",
       "      <td>0.881640</td>\n",
       "      <td>-2.050543</td>\n",
       "      <td>-1.251935</td>\n",
       "      <td>-1.035151</td>\n",
       "      <td>-1.934367</td>\n",
       "      <td>4</td>\n",
       "    </tr>\n",
       "    <tr>\n",
       "      <th>1</th>\n",
       "      <td>-1.034675</td>\n",
       "      <td>1.741801</td>\n",
       "      <td>-1.660629</td>\n",
       "      <td>-1.555989</td>\n",
       "      <td>-0.337553</td>\n",
       "      <td>-2.473838</td>\n",
       "      <td>0</td>\n",
       "    </tr>\n",
       "    <tr>\n",
       "      <th>2</th>\n",
       "      <td>-0.563221</td>\n",
       "      <td>-0.688381</td>\n",
       "      <td>-0.318415</td>\n",
       "      <td>-1.845172</td>\n",
       "      <td>0.352366</td>\n",
       "      <td>-0.912928</td>\n",
       "      <td>1</td>\n",
       "    </tr>\n",
       "    <tr>\n",
       "      <th>3</th>\n",
       "      <td>-1.268179</td>\n",
       "      <td>2.770688</td>\n",
       "      <td>1.054193</td>\n",
       "      <td>2.830389</td>\n",
       "      <td>0.395093</td>\n",
       "      <td>0.677715</td>\n",
       "      <td>3</td>\n",
       "    </tr>\n",
       "    <tr>\n",
       "      <th>4</th>\n",
       "      <td>-1.216380</td>\n",
       "      <td>-0.391267</td>\n",
       "      <td>-2.898931</td>\n",
       "      <td>-0.913074</td>\n",
       "      <td>-2.171857</td>\n",
       "      <td>-2.367490</td>\n",
       "      <td>0</td>\n",
       "    </tr>\n",
       "  </tbody>\n",
       "</table>\n",
       "</div>"
      ],
      "text/plain": [
       "   feature1  feature2  feature3  feature4  feature5  feature6  target\n",
       "0  0.474335  0.881640 -2.050543 -1.251935 -1.035151 -1.934367       4\n",
       "1 -1.034675  1.741801 -1.660629 -1.555989 -0.337553 -2.473838       0\n",
       "2 -0.563221 -0.688381 -0.318415 -1.845172  0.352366 -0.912928       1\n",
       "3 -1.268179  2.770688  1.054193  2.830389  0.395093  0.677715       3\n",
       "4 -1.216380 -0.391267 -2.898931 -0.913074 -2.171857 -2.367490       0"
      ]
     },
     "execution_count": 4,
     "metadata": {},
     "output_type": "execute_result"
    }
   ],
   "source": [
    "data.head()"
   ]
  },
  {
   "cell_type": "markdown",
   "id": "5a938e04",
   "metadata": {},
   "source": [
    "# Exploratory data analysis"
   ]
  },
  {
   "cell_type": "markdown",
   "id": "283d9ee1",
   "metadata": {},
   "source": [
    "## Data review and checks"
   ]
  },
  {
   "cell_type": "markdown",
   "id": "ee044434",
   "metadata": {},
   "source": [
    "- **Size and type of data**"
   ]
  },
  {
   "cell_type": "code",
   "execution_count": 10,
   "id": "8e90d51e",
   "metadata": {},
   "outputs": [
    {
     "name": "stdout",
     "output_type": "stream",
     "text": [
      "The dataset has 2100 rows and 7 columns.\n"
     ]
    }
   ],
   "source": [
    "print('The dataset has', data.shape[0], 'rows and', data.shape[1], 'columns.')"
   ]
  },
  {
   "cell_type": "code",
   "execution_count": 5,
   "id": "9bc19c91",
   "metadata": {},
   "outputs": [
    {
     "name": "stdout",
     "output_type": "stream",
     "text": [
      "<class 'pandas.core.frame.DataFrame'>\n",
      "RangeIndex: 2100 entries, 0 to 2099\n",
      "Data columns (total 7 columns):\n",
      " #   Column    Non-Null Count  Dtype  \n",
      "---  ------    --------------  -----  \n",
      " 0   feature1  2100 non-null   float64\n",
      " 1   feature2  2100 non-null   float64\n",
      " 2   feature3  2100 non-null   float64\n",
      " 3   feature4  2100 non-null   float64\n",
      " 4   feature5  2100 non-null   float64\n",
      " 5   feature6  2100 non-null   float64\n",
      " 6   target    2100 non-null   int64  \n",
      "dtypes: float64(6), int64(1)\n",
      "memory usage: 115.0 KB\n"
     ]
    }
   ],
   "source": [
    "data.info()"
   ]
  },
  {
   "cell_type": "markdown",
   "id": "19d0c960",
   "metadata": {},
   "source": [
    "We observe that all the features are float and the target is an integer"
   ]
  },
  {
   "cell_type": "markdown",
   "id": "71e396f1",
   "metadata": {},
   "source": [
    "- Check null values"
   ]
  },
  {
   "cell_type": "code",
   "execution_count": 9,
   "id": "0dde7df5",
   "metadata": {},
   "outputs": [
    {
     "data": {
      "text/plain": [
       "feature1    0\n",
       "feature2    0\n",
       "feature3    0\n",
       "feature4    0\n",
       "feature5    0\n",
       "feature6    0\n",
       "target      0\n",
       "dtype: int64"
      ]
     },
     "execution_count": 9,
     "metadata": {},
     "output_type": "execute_result"
    }
   ],
   "source": [
    "data.isnull().sum()"
   ]
  },
  {
   "cell_type": "markdown",
   "id": "d80e6565",
   "metadata": {},
   "source": [
    "We observe we don't have any null values in the dataset"
   ]
  },
  {
   "cell_type": "markdown",
   "id": "3dceca94",
   "metadata": {},
   "source": [
    "- **Handling duplicate values**"
   ]
  },
  {
   "cell_type": "code",
   "execution_count": 11,
   "id": "16728fe9",
   "metadata": {},
   "outputs": [
    {
     "data": {
      "text/plain": [
       "0"
      ]
     },
     "execution_count": 11,
     "metadata": {},
     "output_type": "execute_result"
    }
   ],
   "source": [
    "data.duplicated().sum()"
   ]
  },
  {
   "cell_type": "markdown",
   "id": "2db14f94",
   "metadata": {},
   "source": [
    "There aren't duplicate values in the dataset"
   ]
  },
  {
   "cell_type": "markdown",
   "id": "9fed415b",
   "metadata": {},
   "source": [
    "- **Statistical description of data**"
   ]
  },
  {
   "cell_type": "code",
   "execution_count": 18,
   "id": "461d1f8e",
   "metadata": {},
   "outputs": [
    {
     "data": {
      "text/html": [
       "<div>\n",
       "<style scoped>\n",
       "    .dataframe tbody tr th:only-of-type {\n",
       "        vertical-align: middle;\n",
       "    }\n",
       "\n",
       "    .dataframe tbody tr th {\n",
       "        vertical-align: top;\n",
       "    }\n",
       "\n",
       "    .dataframe thead th {\n",
       "        text-align: right;\n",
       "    }\n",
       "</style>\n",
       "<table border=\"1\" class=\"dataframe\">\n",
       "  <thead>\n",
       "    <tr style=\"text-align: right;\">\n",
       "      <th></th>\n",
       "      <th>count</th>\n",
       "      <th>mean</th>\n",
       "      <th>std</th>\n",
       "      <th>min</th>\n",
       "      <th>25%</th>\n",
       "      <th>50%</th>\n",
       "      <th>75%</th>\n",
       "      <th>max</th>\n",
       "    </tr>\n",
       "  </thead>\n",
       "  <tbody>\n",
       "    <tr>\n",
       "      <th>feature1</th>\n",
       "      <td>2100.0</td>\n",
       "      <td>-0.20</td>\n",
       "      <td>1.54</td>\n",
       "      <td>-6.68</td>\n",
       "      <td>-1.17</td>\n",
       "      <td>-0.44</td>\n",
       "      <td>0.89</td>\n",
       "      <td>4.57</td>\n",
       "    </tr>\n",
       "    <tr>\n",
       "      <th>feature2</th>\n",
       "      <td>2100.0</td>\n",
       "      <td>0.20</td>\n",
       "      <td>1.61</td>\n",
       "      <td>-5.38</td>\n",
       "      <td>-0.88</td>\n",
       "      <td>0.32</td>\n",
       "      <td>1.32</td>\n",
       "      <td>6.70</td>\n",
       "    </tr>\n",
       "    <tr>\n",
       "      <th>feature3</th>\n",
       "      <td>2100.0</td>\n",
       "      <td>-0.38</td>\n",
       "      <td>1.45</td>\n",
       "      <td>-6.15</td>\n",
       "      <td>-1.37</td>\n",
       "      <td>-0.44</td>\n",
       "      <td>0.66</td>\n",
       "      <td>4.16</td>\n",
       "    </tr>\n",
       "    <tr>\n",
       "      <th>feature4</th>\n",
       "      <td>2100.0</td>\n",
       "      <td>-0.21</td>\n",
       "      <td>1.44</td>\n",
       "      <td>-5.65</td>\n",
       "      <td>-1.26</td>\n",
       "      <td>-0.18</td>\n",
       "      <td>0.87</td>\n",
       "      <td>4.37</td>\n",
       "    </tr>\n",
       "    <tr>\n",
       "      <th>feature5</th>\n",
       "      <td>2100.0</td>\n",
       "      <td>-0.19</td>\n",
       "      <td>1.50</td>\n",
       "      <td>-5.91</td>\n",
       "      <td>-1.21</td>\n",
       "      <td>-0.20</td>\n",
       "      <td>0.85</td>\n",
       "      <td>5.07</td>\n",
       "    </tr>\n",
       "    <tr>\n",
       "      <th>feature6</th>\n",
       "      <td>2100.0</td>\n",
       "      <td>-0.43</td>\n",
       "      <td>1.19</td>\n",
       "      <td>-4.43</td>\n",
       "      <td>-1.13</td>\n",
       "      <td>-0.41</td>\n",
       "      <td>0.35</td>\n",
       "      <td>4.02</td>\n",
       "    </tr>\n",
       "    <tr>\n",
       "      <th>target</th>\n",
       "      <td>2100.0</td>\n",
       "      <td>1.98</td>\n",
       "      <td>1.41</td>\n",
       "      <td>0.00</td>\n",
       "      <td>1.00</td>\n",
       "      <td>2.00</td>\n",
       "      <td>3.00</td>\n",
       "      <td>4.00</td>\n",
       "    </tr>\n",
       "  </tbody>\n",
       "</table>\n",
       "</div>"
      ],
      "text/plain": [
       "           count  mean   std   min   25%   50%   75%   max\n",
       "feature1  2100.0 -0.20  1.54 -6.68 -1.17 -0.44  0.89  4.57\n",
       "feature2  2100.0  0.20  1.61 -5.38 -0.88  0.32  1.32  6.70\n",
       "feature3  2100.0 -0.38  1.45 -6.15 -1.37 -0.44  0.66  4.16\n",
       "feature4  2100.0 -0.21  1.44 -5.65 -1.26 -0.18  0.87  4.37\n",
       "feature5  2100.0 -0.19  1.50 -5.91 -1.21 -0.20  0.85  5.07\n",
       "feature6  2100.0 -0.43  1.19 -4.43 -1.13 -0.41  0.35  4.02\n",
       "target    2100.0  1.98  1.41  0.00  1.00  2.00  3.00  4.00"
      ]
     },
     "execution_count": 18,
     "metadata": {},
     "output_type": "execute_result"
    }
   ],
   "source": [
    "data.describe().round(2).T"
   ]
  },
  {
   "cell_type": "markdown",
   "id": "cb10b1f5",
   "metadata": {},
   "source": [
    "From the numerical data summary we can observe:\n",
    "- All the features have a similar range and therefore also have a similar scale\n",
    "- A centered distribution with a certain symmetry is intuited"
   ]
  },
  {
   "cell_type": "markdown",
   "id": "de635f3d",
   "metadata": {},
   "source": [
    "## Features distributions"
   ]
  },
  {
   "cell_type": "markdown",
   "id": "4ae28bfe",
   "metadata": {},
   "source": [
    "We plot the distribution and the boxplot for the features"
   ]
  },
  {
   "cell_type": "code",
   "execution_count": 7,
   "id": "faaefad0",
   "metadata": {
    "scrolled": false
   },
   "outputs": [
    {
     "data": {
      "image/png": "[encoded data removed]",
      "text/plain": [
       "<Figure size 864x1440 with 12 Axes>"
      ]
     },
     "metadata": {
      "needs_background": "light"
     },
     "output_type": "display_data"
    }
   ],
   "source": [
    "features=list(data.select_dtypes(float).columns)\n",
    "f, axes = plt.subplots(6,2, figsize = (12, 20))\n",
    "f.suptitle('Features Distribution and Boxplot', fontsize = 14 )\n",
    "for i, column in enumerate(features):\n",
    "    sns.kdeplot(x=data[column], data=data, ax = axes[i][0]);\n",
    "    sns.boxplot(x=data[column], data=data, ax = axes[i][1]);\n",
    "plt.tight_layout(pad=2);"
   ]
  },
  {
   "cell_type": "markdown",
   "id": "83ec9c23",
   "metadata": {},
   "source": [
    "From the feature distributions and boxplots we observe:\n",
    "- The features seem close to a normal distribution\n",
    "- The features have some outliers, but not far from the limits"
   ]
  },
  {
   "cell_type": "markdown",
   "id": "55a24475",
   "metadata": {},
   "source": [
    "- **Checking normal distribution**"
   ]
  },
  {
   "cell_type": "markdown",
   "id": "dd2be298",
   "metadata": {},
   "source": [
    "We create an algoritm that test if features distributions follow a normal distribution. We are using **Shapiro-Wilk test**. Our hypothesis is:   \n",
    "- $H_0:$ The data is normally distributed.\n",
    "- $H_1:$ The data is not normally distributed.\n",
    "\n",
    "With a significant level (**alpha**) of **0.05**"
   ]
  },
  {
   "cell_type": "code",
   "execution_count": 5,
   "id": "d1d7d06b",
   "metadata": {},
   "outputs": [
    {
     "data": {
      "text/html": [
       "<div>\n",
       "<style scoped>\n",
       "    .dataframe tbody tr th:only-of-type {\n",
       "        vertical-align: middle;\n",
       "    }\n",
       "\n",
       "    .dataframe tbody tr th {\n",
       "        vertical-align: top;\n",
       "    }\n",
       "\n",
       "    .dataframe thead th {\n",
       "        text-align: right;\n",
       "    }\n",
       "</style>\n",
       "<table border=\"1\" class=\"dataframe\">\n",
       "  <thead>\n",
       "    <tr style=\"text-align: right;\">\n",
       "      <th></th>\n",
       "      <th>Feature</th>\n",
       "      <th>stat</th>\n",
       "      <th>p_value</th>\n",
       "    </tr>\n",
       "  </thead>\n",
       "  <tbody>\n",
       "    <tr>\n",
       "      <th>0</th>\n",
       "      <td>feature1</td>\n",
       "      <td>0.989096</td>\n",
       "      <td>1.611365e-11</td>\n",
       "    </tr>\n",
       "    <tr>\n",
       "      <th>1</th>\n",
       "      <td>feature2</td>\n",
       "      <td>0.996149</td>\n",
       "      <td>3.394436e-05</td>\n",
       "    </tr>\n",
       "    <tr>\n",
       "      <th>2</th>\n",
       "      <td>feature3</td>\n",
       "      <td>0.997782</td>\n",
       "      <td>4.971621e-03</td>\n",
       "    </tr>\n",
       "    <tr>\n",
       "      <th>3</th>\n",
       "      <td>feature4</td>\n",
       "      <td>0.996859</td>\n",
       "      <td>2.655204e-04</td>\n",
       "    </tr>\n",
       "    <tr>\n",
       "      <th>4</th>\n",
       "      <td>feature5</td>\n",
       "      <td>0.997745</td>\n",
       "      <td>4.394508e-03</td>\n",
       "    </tr>\n",
       "    <tr>\n",
       "      <th>5</th>\n",
       "      <td>feature6</td>\n",
       "      <td>0.995128</td>\n",
       "      <td>2.289365e-06</td>\n",
       "    </tr>\n",
       "  </tbody>\n",
       "</table>\n",
       "</div>"
      ],
      "text/plain": [
       "    Feature      stat       p_value\n",
       "0  feature1  0.989096  1.611365e-11\n",
       "1  feature2  0.996149  3.394436e-05\n",
       "2  feature3  0.997782  4.971621e-03\n",
       "3  feature4  0.996859  2.655204e-04\n",
       "4  feature5  0.997745  4.394508e-03\n",
       "5  feature6  0.995128  2.289365e-06"
      ]
     },
     "execution_count": 5,
     "metadata": {},
     "output_type": "execute_result"
    }
   ],
   "source": [
    "gaussian_df= pd.DataFrame(columns=['Feature','stat', 'p_value'])\n",
    "for i in features:\n",
    "    stat, p_value = shapiro(data[i])\n",
    "    test={'Feature':i, 'stat':stat, 'p_value': p_value}\n",
    "    gaussian_df = gaussian_df.append(test, ignore_index=True)\n",
    "gaussian_df"
   ]
  },
  {
   "cell_type": "markdown",
   "id": "b7e7e4ab",
   "metadata": {},
   "source": [
    "As p_value is less than the significant level (alpha) for all the features, we can reject null hypothesis at 95% Significance Level and therfore we can conclude that the **features are not normally distributed**."
   ]
  },
  {
   "cell_type": "markdown",
   "id": "26bb6365",
   "metadata": {},
   "source": [
    "- **Features distribution by target**\n",
    "\n",
    "We want to see the features distribution for each target value"
   ]
  },
  {
   "cell_type": "code",
   "execution_count": 8,
   "id": "560d9976",
   "metadata": {},
   "outputs": [
    {
     "data": {
      "image/png": "[encoded data removed]",
      "text/plain": [
       "<Figure size 576x1440 with 5 Axes>"
      ]
     },
     "metadata": {
      "needs_background": "light"
     },
     "output_type": "display_data"
    }
   ],
   "source": [
    "#Plotting boxplots for each target value\n",
    "f, axes = plt.subplots(5,1, figsize = (8, 20))\n",
    "f.suptitle('Features distribution by target', fontsize = 16 )\n",
    "for i in range(5):\n",
    "    sns.boxplot(data=data[data['target']== i][features], ax = axes[i]).set(title='Target '+ str(i));\n",
    "plt.tight_layout(pad=2);"
   ]
  },
  {
   "cell_type": "markdown",
   "id": "4a3b8bac",
   "metadata": {},
   "source": [
    "From features distribution by target we observe:\n",
    "- Each of the features can have a different distribution depending on the target\n",
    "- The average values of the features may be different for each target\n",
    "- Each target has a different combination of mean values of the features"
   ]
  },
  {
   "cell_type": "markdown",
   "id": "75392384",
   "metadata": {},
   "source": [
    "## Correlation analysis"
   ]
  },
  {
   "cell_type": "markdown",
   "id": "7f3bad57",
   "metadata": {},
   "source": [
    "We check correlation betwween the features and with our target"
   ]
  },
  {
   "cell_type": "code",
   "execution_count": 8,
   "id": "05d3a72c",
   "metadata": {},
   "outputs": [
    {
     "data": {
      "image/png": "[encoded data removed]",
      "text/plain": [
       "<Figure size 720x576 with 2 Axes>"
      ]
     },
     "metadata": {
      "needs_background": "light"
     },
     "output_type": "display_data"
    }
   ],
   "source": [
    "plt.figure(figsize=(10,8))\n",
    "#colormap = plt.cm.YlGnBu\n",
    "\n",
    "matrix = np.triu(data.corr())\n",
    "plt.title('Pearson Correlation of features', y=1.05, size = 15)\n",
    "sns.heatmap(data.corr(), square = True, annot = True, mask = matrix)\n",
    "plt.show()"
   ]
  },
  {
   "cell_type": "markdown",
   "id": "779b687a",
   "metadata": {},
   "source": [
    "From correlation matrix we observe:\n",
    "- Only feature5 is correlated with feature3 (0.88)\n",
    "- There isn't significative correlation between the features and the target"
   ]
  },
  {
   "cell_type": "markdown",
   "id": "33ec75bc",
   "metadata": {},
   "source": [
    "Given the low level of correlation of the data, we do not propose reduction of variables for reasons of multicolinearity"
   ]
  },
  {
   "cell_type": "markdown",
   "id": "5ad3001b",
   "metadata": {},
   "source": [
    "## Target distribution"
   ]
  },
  {
   "cell_type": "code",
   "execution_count": 9,
   "id": "27af5d31",
   "metadata": {},
   "outputs": [
    {
     "data": {
      "text/plain": [
       "0    427\n",
       "3    426\n",
       "1    423\n",
       "2    419\n",
       "4    405\n",
       "Name: target, dtype: int64"
      ]
     },
     "execution_count": 9,
     "metadata": {},
     "output_type": "execute_result"
    }
   ],
   "source": [
    "data.target.value_counts()"
   ]
  },
  {
   "cell_type": "markdown",
   "id": "f9899c4b",
   "metadata": {},
   "source": [
    "We observe that the target is **highly balanced**"
   ]
  },
  {
   "cell_type": "markdown",
   "id": "23b11803",
   "metadata": {},
   "source": [
    "# Building a Random Forest Classifier model"
   ]
  },
  {
   "cell_type": "markdown",
   "id": "96ff5a20",
   "metadata": {},
   "source": [
    "In creating the model we will consider 2 determining criteria:\n",
    "- As features have a similar scale and also RandomForest does not require prior data normalization, we will **not scale the data**\n",
    "- As our dataset is relatively small (2,100 registers), we will not use the split train-test technique because we would train the model with less data and therefore we would obtain a result that could be sensitive to noise and not too robust. We are using for building our model **Cross Validation with the complete dataset**, that gives better and more robusts results with small datasets "
   ]
  },
  {
   "cell_type": "markdown",
   "id": "8cbed254",
   "metadata": {},
   "source": [
    "## Creating the base model\n",
    "We use **Random Forest Classifier** with the default parameters and the metric for evaluating will be **F1 macro score**"
   ]
  },
  {
   "cell_type": "code",
   "execution_count": 5,
   "id": "66f0430a",
   "metadata": {},
   "outputs": [],
   "source": [
    "# We separate the variables from the target\n",
    "y= data['target']\n",
    "X= data.drop(['target'], axis=1)"
   ]
  },
  {
   "cell_type": "code",
   "execution_count": 4,
   "id": "80e4ce8d",
   "metadata": {},
   "outputs": [],
   "source": [
    "# Instantiate the base model \n",
    "rf = RandomForestClassifier(random_state= 0)"
   ]
  },
  {
   "cell_type": "markdown",
   "id": "c2b2c897",
   "metadata": {},
   "source": [
    "## Cross Validation"
   ]
  },
  {
   "cell_type": "markdown",
   "id": "a3f915d9",
   "metadata": {},
   "source": [
    "Using Cross Validation to obtain F1 score for the base model"
   ]
  },
  {
   "cell_type": "code",
   "execution_count": 28,
   "id": "1f4365f5",
   "metadata": {},
   "outputs": [
    {
     "name": "stdout",
     "output_type": "stream",
     "text": [
      "Base model Cross Validation f1_score mean: 0.7706     std_f1: 0.0275\n"
     ]
    }
   ],
   "source": [
    "crossv = RepeatedKFold(n_splits = 10, n_repeats = 5, random_state = 0)\n",
    "scores = cross_val_score(rf, X, y, scoring= 'f1_macro', cv = crossv)\n",
    "print('Base model Cross Validation f1_score mean: {0}     std_f1: {1}'.format(np.mean(scores).round(4), np.std(scores).round(4)))"
   ]
  },
  {
   "cell_type": "markdown",
   "id": "30294b12",
   "metadata": {},
   "source": [
    "The standard deviation of the 50 values is very low, so we can we consider the value obtained F1 as good and conclude that the model doesn't present overfitting."
   ]
  },
  {
   "cell_type": "markdown",
   "id": "2b0ad7fd",
   "metadata": {},
   "source": [
    "## Hypermaraters tunning"
   ]
  },
  {
   "cell_type": "code",
   "execution_count": 6,
   "id": "1baa9fc1",
   "metadata": {},
   "outputs": [
    {
     "data": {
      "text/plain": [
       "{'bootstrap': True,\n",
       " 'ccp_alpha': 0.0,\n",
       " 'class_weight': None,\n",
       " 'criterion': 'gini',\n",
       " 'max_depth': None,\n",
       " 'max_features': 'auto',\n",
       " 'max_leaf_nodes': None,\n",
       " 'max_samples': None,\n",
       " 'min_impurity_decrease': 0.0,\n",
       " 'min_samples_leaf': 1,\n",
       " 'min_samples_split': 2,\n",
       " 'min_weight_fraction_leaf': 0.0,\n",
       " 'n_estimators': 100,\n",
       " 'n_jobs': None,\n",
       " 'oob_score': False,\n",
       " 'random_state': 0,\n",
       " 'verbose': 0,\n",
       " 'warm_start': False}"
      ]
     },
     "execution_count": 6,
     "metadata": {},
     "output_type": "execute_result"
    }
   ],
   "source": [
    "#We get the model inicial parameters\n",
    "rf.get_params()"
   ]
  },
  {
   "cell_type": "code",
   "execution_count": 15,
   "id": "98407d3f",
   "metadata": {},
   "outputs": [
    {
     "data": {
      "text/plain": [
       "GridSearchCV(estimator=RandomForestClassifier(random_state=0),\n",
       "             param_grid={'criterion': ['gini', 'entropy'],\n",
       "                         'max_depth': [15, 20, 25, 30],\n",
       "                         'max_features': [0.4, 0.5, 0.6],\n",
       "                         'n_estimators': [250, 275, 300, 325, 350]},\n",
       "             scoring='f1_macro')"
      ]
     },
     "execution_count": 15,
     "metadata": {},
     "output_type": "execute_result"
    }
   ],
   "source": [
    "#Parameters to optimize with GridSearch\n",
    "parameters ={'max_features':  [0.4, 0.5, 0.6], \n",
    "             'n_estimators': [250, 275, 300, 325, 350], \n",
    "             'max_depth': [15, 20, 25, 30], \n",
    "             'criterion': ['gini', 'entropy']}\n",
    "\n",
    "#setting up\n",
    "rf_gs = GridSearchCV(estimator = RandomForestClassifier(random_state= 0), param_grid = parameters, scoring = 'f1_macro')\n",
    "\n",
    "#Training\n",
    "rf_gs.fit(X, y)"
   ]
  },
  {
   "cell_type": "code",
   "execution_count": 16,
   "id": "6cb270f8",
   "metadata": {},
   "outputs": [
    {
     "name": "stdout",
     "output_type": "stream",
     "text": [
      "Best GridSearch Parameters:  {'criterion': 'gini', 'max_depth': 20, 'max_features': 0.5, 'n_estimators': 325}\n",
      "Best GridSearch score:  0.7758118923961627\n"
     ]
    }
   ],
   "source": [
    "print ('Best GridSearch Parameters: ', rf_gs.best_params_)\n",
    "print('Best GridSearch score: ', rf_gs.best_score_)"
   ]
  },
  {
   "cell_type": "markdown",
   "id": "6f98d8b9",
   "metadata": {},
   "source": [
    "We evaluate results of best parameters with Cross Validation:"
   ]
  },
  {
   "cell_type": "code",
   "execution_count": 29,
   "id": "f9d364e1",
   "metadata": {},
   "outputs": [
    {
     "name": "stdout",
     "output_type": "stream",
     "text": [
      "f1_score mean: 0.7779     std_f1: 0.0263\n"
     ]
    }
   ],
   "source": [
    "rf_opt= RandomForestClassifier(n_estimators = 325, max_features= 0.5 , max_depth=20, criterion = 'gini' ,\n",
    "                                 random_state=0)\n",
    "crossv = RepeatedKFold(n_splits = 10, n_repeats = 5, random_state = 0)\n",
    "scores = cross_val_score(rf_opt, X, y, scoring= 'f1_macro', cv = crossv)\n",
    "print('f1_score mean: {0}     std_f1: {1}'.format(np.mean(scores).round(4), np.std(scores).round(4)))"
   ]
  },
  {
   "cell_type": "markdown",
   "id": "681be261",
   "metadata": {},
   "source": [
    "- **Optimal number of trees**\n",
    "\n",
    "Starting from the best parameters obtained by Grid Search, next we are going to look for the optimal number of estimators to see if we can improve the F1"
   ]
  },
  {
   "cell_type": "code",
   "execution_count": 31,
   "id": "7abeb531",
   "metadata": {},
   "outputs": [
    {
     "name": "stdout",
     "output_type": "stream",
     "text": [
      "n_estimator= 310   f1_score mean: 0.7788     std_f1: 0.026\n",
      "n_estimator= 312   f1_score mean: 0.7787     std_f1: 0.0262\n",
      "n_estimator= 314   f1_score mean: 0.7785     std_f1: 0.0257\n",
      "n_estimator= 316   f1_score mean: 0.7785     std_f1: 0.0263\n",
      "n_estimator= 318   f1_score mean: 0.7784     std_f1: 0.0257\n",
      "n_estimator= 320   f1_score mean: 0.7789     std_f1: 0.0259\n",
      "n_estimator= 322   f1_score mean: 0.7786     std_f1: 0.0266\n",
      "n_estimator= 324   f1_score mean: 0.7781     std_f1: 0.0261\n",
      "n_estimator= 326   f1_score mean: 0.7783     std_f1: 0.0259\n",
      "n_estimator= 328   f1_score mean: 0.7783     std_f1: 0.0262\n"
     ]
    }
   ],
   "source": [
    "for num_estimator in range (310, 330, 2):\n",
    "    rf_opt1= RandomForestClassifier(n_estimators = num_estimator, max_features= 0.5 , max_depth=20, criterion = 'gini' ,\n",
    "                                 random_state=0)\n",
    "    crossv = RepeatedKFold(n_splits = 10, n_repeats = 5, random_state = 0)   \n",
    "    scores = cross_val_score(rf_opt1, X, y, scoring= 'f1_macro', cv= crossv)\n",
    "    print('n_estimator= {0}   f1_score mean: {1}     std_f1: {2}'.format(num_estimator, np.mean(scores).round(4), np.std(scores).round(4)))"
   ]
  },
  {
   "cell_type": "markdown",
   "id": "44e8da07",
   "metadata": {},
   "source": [
    "We obtained a very light F1 improvement using n_estimator=320, from 0.7779 to 0.7789"
   ]
  },
  {
   "cell_type": "markdown",
   "id": "03061bd9",
   "metadata": {},
   "source": [
    "**Final_model:**\n",
    "- RandomForestClassifier(n_estimators = 320, max_features= 0.5 , max_depth=20, criterion = 'gini', random_state=0)\n",
    "- F1 score mean: **0.7789**"
   ]
  },
  {
   "cell_type": "markdown",
   "id": "ffc4ae62",
   "metadata": {},
   "source": [
    "## Preparing the model for new predictions"
   ]
  },
  {
   "cell_type": "markdown",
   "id": "4975036c",
   "metadata": {},
   "source": [
    "- **Create a Pipeline**"
   ]
  },
  {
   "cell_type": "code",
   "execution_count": 6,
   "id": "a7105600",
   "metadata": {},
   "outputs": [
    {
     "data": {
      "text/plain": [
       "Pipeline(steps=[('model',\n",
       "                 RandomForestClassifier(max_depth=20, max_features=0.5,\n",
       "                                        n_estimators=320, random_state=0))])"
      ]
     },
     "execution_count": 6,
     "metadata": {},
     "output_type": "execute_result"
    }
   ],
   "source": [
    "# Prepare the model \n",
    "final_model = RandomForestClassifier(n_estimators= 320, max_depth=20, max_features= 0.5, criterion = 'gini' \n",
    "                                     ,random_state=0)\n",
    "\n",
    "# Prepare Pipeline \n",
    "pipeline = Pipeline( steps= [('model', final_model)])\n",
    "\n",
    "# fit on all data \n",
    "pipeline.fit(X, y)"
   ]
  },
  {
   "cell_type": "markdown",
   "id": "53c2fe0d",
   "metadata": {},
   "source": [
    "- **Make predictions on test data**"
   ]
  },
  {
   "cell_type": "code",
   "execution_count": 8,
   "id": "9a135ebc",
   "metadata": {},
   "outputs": [
    {
     "data": {
      "text/html": [
       "<div>\n",
       "<style scoped>\n",
       "    .dataframe tbody tr th:only-of-type {\n",
       "        vertical-align: middle;\n",
       "    }\n",
       "\n",
       "    .dataframe tbody tr th {\n",
       "        vertical-align: top;\n",
       "    }\n",
       "\n",
       "    .dataframe thead th {\n",
       "        text-align: right;\n",
       "    }\n",
       "</style>\n",
       "<table border=\"1\" class=\"dataframe\">\n",
       "  <thead>\n",
       "    <tr style=\"text-align: right;\">\n",
       "      <th></th>\n",
       "      <th>feature1</th>\n",
       "      <th>feature2</th>\n",
       "      <th>feature3</th>\n",
       "      <th>feature4</th>\n",
       "      <th>feature5</th>\n",
       "      <th>feature6</th>\n",
       "    </tr>\n",
       "  </thead>\n",
       "  <tbody>\n",
       "    <tr>\n",
       "      <th>0</th>\n",
       "      <td>0.943723</td>\n",
       "      <td>-2.985473</td>\n",
       "      <td>-0.938218</td>\n",
       "      <td>3.580261</td>\n",
       "      <td>-3.038106</td>\n",
       "      <td>2.080338</td>\n",
       "    </tr>\n",
       "    <tr>\n",
       "      <th>1</th>\n",
       "      <td>-0.899819</td>\n",
       "      <td>1.295568</td>\n",
       "      <td>1.274513</td>\n",
       "      <td>0.718186</td>\n",
       "      <td>1.117035</td>\n",
       "      <td>0.463068</td>\n",
       "    </tr>\n",
       "    <tr>\n",
       "      <th>2</th>\n",
       "      <td>0.293281</td>\n",
       "      <td>-0.099317</td>\n",
       "      <td>1.874902</td>\n",
       "      <td>-0.589582</td>\n",
       "      <td>1.828441</td>\n",
       "      <td>1.011596</td>\n",
       "    </tr>\n",
       "    <tr>\n",
       "      <th>3</th>\n",
       "      <td>-1.134804</td>\n",
       "      <td>0.888585</td>\n",
       "      <td>-1.464499</td>\n",
       "      <td>-1.183056</td>\n",
       "      <td>-0.525729</td>\n",
       "      <td>-1.963822</td>\n",
       "    </tr>\n",
       "    <tr>\n",
       "      <th>4</th>\n",
       "      <td>-0.909240</td>\n",
       "      <td>1.575797</td>\n",
       "      <td>0.697212</td>\n",
       "      <td>1.197092</td>\n",
       "      <td>0.486185</td>\n",
       "      <td>0.222644</td>\n",
       "    </tr>\n",
       "  </tbody>\n",
       "</table>\n",
       "</div>"
      ],
      "text/plain": [
       "   feature1  feature2  feature3  feature4  feature5  feature6\n",
       "0  0.943723 -2.985473 -0.938218  3.580261 -3.038106  2.080338\n",
       "1 -0.899819  1.295568  1.274513  0.718186  1.117035  0.463068\n",
       "2  0.293281 -0.099317  1.874902 -0.589582  1.828441  1.011596\n",
       "3 -1.134804  0.888585 -1.464499 -1.183056 -0.525729 -1.963822\n",
       "4 -0.909240  1.575797  0.697212  1.197092  0.486185  0.222644"
      ]
     },
     "execution_count": 8,
     "metadata": {},
     "output_type": "execute_result"
    }
   ],
   "source": [
    "# Open test data \n",
    "test_data = pd.read_csv('jm_X_test.csv', engine='python')\n",
    "test_data.head()"
   ]
  },
  {
   "cell_type": "code",
   "execution_count": 9,
   "id": "0cdefc8d",
   "metadata": {},
   "outputs": [],
   "source": [
    "prediction = pipeline.predict(test_data)"
   ]
  },
  {
   "cell_type": "code",
   "execution_count": 10,
   "id": "582188ac",
   "metadata": {},
   "outputs": [],
   "source": [
    "#Create a DataFrame\n",
    "outcome= pd.DataFrame({'final_status': prediction})"
   ]
  },
  {
   "cell_type": "code",
   "execution_count": 12,
   "id": "de33cb5d",
   "metadata": {},
   "outputs": [],
   "source": [
    "# save to csv file \n",
    "outcome.to_csv('predictions.csv', index = False )"
   ]
  },
  {
   "cell_type": "markdown",
   "id": "10e2952f",
   "metadata": {},
   "source": [
    "## Conclusions\n",
    "- We have use a RandomForest model for our prediction\n",
    "- As the dataset is small, we have used all the registers to train the model\n",
    "- Applying cross validation we have verified that the model remains stable and that there was no overfitting. We obtained a **f1 score of 0.7706**\n",
    "- Through GridSearch we have adjusted the hyperparameters improving the initial model until we obtained a **F1_Score of 0.7779**\n",
    "- Finally, we have optimized the number of estimators and obtained a **F1_Score of 0.7789**"
   ]
  }
 ],
 "metadata": {
  "kernelspec": {
   "display_name": "Python 3 (ipykernel)",
   "language": "python",
   "name": "python3"
  },
  "language_info": {
   "codemirror_mode": {
    "name": "ipython",
    "version": 3
   },
   "file_extension": ".py",
   "mimetype": "text/x-python",
   "name": "python",
   "nbconvert_exporter": "python",
   "pygments_lexer": "ipython3",
   "version": "3.9.7"
  }
 },
 "nbformat": 4,
 "nbformat_minor": 5
}
